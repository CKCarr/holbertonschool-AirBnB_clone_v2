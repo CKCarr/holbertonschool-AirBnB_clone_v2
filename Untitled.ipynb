{
 "cells": [
  {
   "cell_type": "code",
   "execution_count": null,
   "id": "bef294c9-ec2b-486f-9032-322b1cf03023",
   "metadata": {},
   "outputs": [],
   "source": [
    "first make sure the env variables are set\n",
    "\n"
   ]
  },
  {
   "cell_type": "code",
   "execution_count": 4,
   "id": "f1be9d25-4e73-4005-937a-aec13c7e6783",
   "metadata": {},
   "outputs": [
    {
     "name": "stdout",
     "output_type": "stream",
     "text": [
      "SHELL=/bin/bash\n",
      "WSL2_GUI_APPS_ENABLED=1\n",
      "WSL_DISTRO_NAME=Ubuntu\n",
      "WT_SESSION=588da405-d394-468e-9875-21f23fbff9aa\n",
      "NAME=ckcarr\n",
      "PWD=/home/ckcarr/Holberton_REPOS/holbertonschool-AirBnB_clone_v2\n",
      "LOGNAME=ckcarr\n",
      "JPY_SESSION_NAME=/home/ckcarr/Holberton_REPOS/holbertonschool-AirBnB_clone_v2/Untitled.ipynb\n",
      "_=/usr/bin/env\n",
      "HOME=/home/ckcarr\n",
      "LANG=C.UTF-8\n",
      "WSL_INTEROP=/run/WSL/23013_interop\n",
      "LS_COLORS=rs=0:di=01;34:ln=01;36:mh=00:pi=40;33:so=01;35:do=01;35:bd=40;33;01:cd=40;33;01:or=40;31;01:mi=00:su=37;41:sg=30;43:ca=30;41:tw=30;42:ow=34;42:st=37;44:ex=01;32:*.tar=01;31:*.tgz=01;31:*.arc=01;31:*.arj=01;31:*.taz=01;31:*.lha=01;31:*.lz4=01;31:*.lzh=01;31:*.lzma=01;31:*.tlz=01;31:*.txz=01;31:*.tzo=01;31:*.t7z=01;31:*.zip=01;31:*.z=01;31:*.dz=01;31:*.gz=01;31:*.lrz=01;31:*.lz=01;31:*.lzo=01;31:*.xz=01;31:*.zst=01;31:*.tzst=01;31:*.bz2=01;31:*.bz=01;31:*.tbz=01;31:*.tbz2=01;31:*.tz=01;31:*.deb=01;31:*.rpm=01;31:*.jar=01;31:*.war=01;31:*.ear=01;31:*.sar=01;31:*.rar=01;31:*.alz=01;31:*.ace=01;31:*.zoo=01;31:*.cpio=01;31:*.7z=01;31:*.rz=01;31:*.cab=01;31:*.wim=01;31:*.swm=01;31:*.dwm=01;31:*.esd=01;31:*.jpg=01;35:*.jpeg=01;35:*.mjpg=01;35:*.mjpeg=01;35:*.gif=01;35:*.bmp=01;35:*.pbm=01;35:*.pgm=01;35:*.ppm=01;35:*.tga=01;35:*.xbm=01;35:*.xpm=01;35:*.tif=01;35:*.tiff=01;35:*.png=01;35:*.svg=01;35:*.svgz=01;35:*.mng=01;35:*.pcx=01;35:*.mov=01;35:*.mpg=01;35:*.mpeg=01;35:*.m2v=01;35:*.mkv=01;35:*.webm=01;35:*.webp=01;35:*.ogm=01;35:*.mp4=01;35:*.m4v=01;35:*.mp4v=01;35:*.vob=01;35:*.qt=01;35:*.nuv=01;35:*.wmv=01;35:*.asf=01;35:*.rm=01;35:*.rmvb=01;35:*.flc=01;35:*.avi=01;35:*.fli=01;35:*.flv=01;35:*.gl=01;35:*.dl=01;35:*.xcf=01;35:*.xwd=01;35:*.yuv=01;35:*.cgm=01;35:*.emf=01;35:*.ogv=01;35:*.ogx=01;35:*.aac=00;36:*.au=00;36:*.flac=00;36:*.m4a=00;36:*.mid=00;36:*.midi=00;36:*.mka=00;36:*.mp3=00;36:*.mpc=00;36:*.ogg=00;36:*.ra=00;36:*.wav=00;36:*.oga=00;36:*.opus=00;36:*.spx=00;36:*.xspf=00;36:\n",
      "VIRTUAL_ENV=/home/ckcarr/CKCenv\n",
      "WAYLAND_DISPLAY=wayland-0\n",
      "FORCE_COLOR=1\n",
      "PYDEVD_USE_FRAME_EVAL=NO\n",
      "CLICOLOR=1\n",
      "CLICOLOR_FORCE=1\n",
      "HBNB_MYSQL_PWD=hbnb_dev_pwd\n",
      "HBNB_MYSQL_DB=hbnb_dev_db\n",
      "JPY_PARENT_PID=13883\n",
      "LESSCLOSE=/usr/bin/lesspipe %s %s\n",
      "TERM=xterm-color\n",
      "LESSOPEN=| /usr/bin/lesspipe %s\n",
      "USER=ckcarr\n",
      "GIT_PAGER=cat\n",
      "DISPLAY=:0\n",
      "SHLVL=1\n",
      "PAGER=cat\n",
      "VIRTUAL_ENV_PROMPT=(CKCenv) \n",
      "HBNB_MYSQL_USER=hbnb_dev\n",
      "MPLBACKEND=module://matplotlib_inline.backend_inline\n",
      "XDG_RUNTIME_DIR=/mnt/wslg/runtime-dir\n",
      "HBNB_MYSQL_HOST=localhost\n",
      "WSLENV=WT_SESSION::WT_PROFILE_ID\n",
      "XDG_DATA_DIRS=/usr/local/share:/usr/share:/var/lib/snapd/desktop\n",
      "PATH=/home/ckcarr/CKCenv/bin:/home/ckcarr/.local/bin:/usr/local/sbin:/usr/local/bin:/usr/sbin:/usr/bin:/sbin:/bin:/usr/games:/usr/local/games:/usr/lib/wsl/lib:/mnt/c/Program Files (x86)/VMware/VMware Player/bin/:/mnt/c/windows/system32:/mnt/c/windows:/mnt/c/windows/System32/Wbem:/mnt/c/windows/System32/WindowsPowerShell/v1.0/:/mnt/c/windows/System32/OpenSSH/:/mnt/c/Program Files/GitHub CLI/:/mnt/c/Program Files/Git/cmd:/mnt/c/cygwin64/bin:/mnt/c/Program Files/Docker/Docker/resources/bin:/mnt/c/Users/Crysk/AppData/Local/Microsoft/WindowsApps:/mnt/c/Users/Crysk/AppData/Local/Programs/Microsoft VS Code/bin:/mnt/c/Users/Crysk/AppData/Local/GitHubDesktop/bin:/mnt/c/Users/Crysk/AppData/Local/gitkraken/bin:/mnt/c/Program Files (x86)/Brackets/:/snap/bin\n",
      "HBNB_TYPE_STORAGE=db\n",
      "HOSTTYPE=x86_64\n",
      "PULSE_SERVER=unix:/mnt/wslg/PulseServer\n",
      "WT_PROFILE_ID={51855cb2-8cce-5362-8f54-464b92b32386}\n",
      "OLDPWD=/home/ckcarr/Holberton_REPOS\n"
     ]
    }
   ],
   "source": [
    "!env"
   ]
  },
  {
   "cell_type": "code",
   "execution_count": null,
   "id": "2c5d1b08-05d0-4285-8dd5-e3dbe0189716",
   "metadata": {},
   "outputs": [],
   "source": [
    "you can either run a bash script or save them in global"
   ]
  },
  {
   "cell_type": "code",
   "execution_count": 3,
   "id": "126268ac-4221-409b-9726-97f88d44ed85",
   "metadata": {},
   "outputs": [
    {
     "name": "stdout",
     "output_type": "stream",
     "text": [
      "\u001b7\u001b[?47h\u001b[>4;2m\u001b[?1h\u001b=\u001b[?2004h\u001b[?1004h\u001b[1;24r\u001b[?12h\u001b[?12l\u001b[22;2t\u001b[22;1t\u001b[29m\u001b[m\u001b[H\u001b[2J\u001b[?25l\u001b[24;1H\"~/.bashrc\" 133L, 4106B\u001b[2;1H▽\u001b[6n\u001b[2;1H  \u001b[3;1H\u001bPzz\u001b\\\u001b[0%m\u001b[6n\u001b[3;1H           \u001b[1;1H\u001b[>c\u001b]10;?\u0007\u001b]11;?\u0007\u001b[1;1H\u001b[33mif !\u001b[m shopt \u001b[35m-oq\u001b[m posix\u001b[33m;\u001b[m \u001b[33mthen\u001b[m\n",
      "  \u001b[33mif [\u001b[m \u001b[33m-f\u001b[m /usr/share/bash-completion/bash_completion \u001b[33m];\u001b[m \u001b[33mthen\u001b[m\u001b[2;61H\u001b[K\u001b[3;1H   \u001b[33m . \u001b[m/usr/share/bash-completion/bash_completion\u001b[3;49H\u001b[K\u001b[4;3H\u001b[33melif\u001b[m \u001b[33m[\u001b[m \u001b[33m-f\u001b[m /etc/bash_completion \u001b[33m];\u001b[m \u001b[33mthen\n",
      "\u001b[m   \u001b[33m . \u001b[m/etc/bash_completion\n",
      "  \u001b[33mfi\n",
      "fi\u001b[m\n",
      "\u001b[34m# cd straight to root\u001b[m\n",
      "\u001b[33mcd\u001b[m ~\n",
      "\n",
      "\n",
      "\u001b[33malias \u001b[m\u001b[36mpycs\u001b[m\u001b[33m=\"\u001b[m\u001b[31mpycodestyle\u001b[m\u001b[33m\"\n",
      "alias \u001b[m\u001b[36mgacp\u001b[m\u001b[33m=\"\u001b[m\u001b[31mbash ~/scripts/gacp.sh\u001b[m\u001b[33m\"\n",
      "\n",
      "alias \u001b[m\u001b[36mw3c\u001b[m\u001b[33m='\u001b[m\u001b[31mpython3 ~/W3C-Validator/w3c_validator.py\u001b[m\u001b[33m'\n",
      "alias\u001b[m \u001b[36mp\u001b[m=\u001b[33m'\u001b[m\u001b[31mpython3\u001b[m\u001b[33m'\n",
      "\n",
      "export\u001b[m \u001b[36mHBNB_MYSQL_USER\u001b[m=\u001b[33m\"\u001b[m\u001b[31mhbnb_dev\u001b[m\u001b[33m\"\n",
      "export\u001b[m \u001b[36mHBNB_MYSQL_PWD\u001b[m=\u001b[33m\"\u001b[m\u001b[31mhbnb_dev_pwd\u001b[m\u001b[33m\"\n",
      "export\u001b[m \u001b[36mHBNB_MYSQL_HOST\u001b[m=\u001b[33m\"\u001b[m\u001b[31mlocalhost\u001b[m\u001b[33m\"\n",
      "export\u001b[m \u001b[36mHBNB_MYSQL_DB\u001b[m=\u001b[33m\"\u001b[m\u001b[31mhbnb_dev_db\u001b[m\u001b[33m\"\n",
      "export\u001b[m \u001b[36mHBNB_TYPE_STORAGE\u001b[m=\u001b[33m\"\u001b[m\u001b[31mdb\u001b[m\u001b[33m\"\u001b[m\u001b[24;63H133,0-1\u001b[7CBot\u001b[23;1H\u001b[?25h\u001b[?25l\n",
      "Type  :qa  and press <Enter> to exit Vim\u001b[24;63H\u001b[K\u0007\u001b[24;63H133,0-1\u001b[7CBot\u001b[23;1H\u001b[?25h"
     ]
    }
   ],
   "source": [
    "!vim ~/.bashrc"
   ]
  },
  {
   "cell_type": "code",
   "execution_count": null,
   "id": "5b4d6a30-9fac-4d0f-ae8c-723e1dee233c",
   "metadata": {},
   "outputs": [],
   "source": [
    "export HBNB_MYSQL_USER=\"hbnb_dev\"\n",
    "export HBNB_MYSQL_PWD=\"hbnb_dev_pwd\"\n",
    "export HBNB_MYSQL_HOST=\"localhost\"\n",
    "export HBNB_MYSQL_DB=\"hbnb_dev_db\"\n",
    "export HBNB_TYPE_STORAGE=\"db\""
   ]
  },
  {
   "cell_type": "code",
   "execution_count": 5,
   "id": "8eb0cfb3-332f-4e45-9f70-b7cb3d080536",
   "metadata": {},
   "outputs": [],
   "source": [
    "!source ~/.bashrc"
   ]
  },
  {
   "cell_type": "code",
   "execution_count": 6,
   "id": "59d1dc50-4bd5-4a98-8521-c3c766b60029",
   "metadata": {},
   "outputs": [
    {
     "name": "stdout",
     "output_type": "stream",
     "text": [
      "SHELL=/bin/bash\n",
      "WSL2_GUI_APPS_ENABLED=1\n",
      "WSL_DISTRO_NAME=Ubuntu\n",
      "WT_SESSION=588da405-d394-468e-9875-21f23fbff9aa\n",
      "NAME=ckcarr\n",
      "PWD=/home/ckcarr/Holberton_REPOS/holbertonschool-AirBnB_clone_v2\n",
      "LOGNAME=ckcarr\n",
      "JPY_SESSION_NAME=/home/ckcarr/Holberton_REPOS/holbertonschool-AirBnB_clone_v2/Untitled.ipynb\n",
      "_=/usr/bin/env\n",
      "HOME=/home/ckcarr\n",
      "LANG=C.UTF-8\n",
      "WSL_INTEROP=/run/WSL/23013_interop\n",
      "LS_COLORS=rs=0:di=01;34:ln=01;36:mh=00:pi=40;33:so=01;35:do=01;35:bd=40;33;01:cd=40;33;01:or=40;31;01:mi=00:su=37;41:sg=30;43:ca=30;41:tw=30;42:ow=34;42:st=37;44:ex=01;32:*.tar=01;31:*.tgz=01;31:*.arc=01;31:*.arj=01;31:*.taz=01;31:*.lha=01;31:*.lz4=01;31:*.lzh=01;31:*.lzma=01;31:*.tlz=01;31:*.txz=01;31:*.tzo=01;31:*.t7z=01;31:*.zip=01;31:*.z=01;31:*.dz=01;31:*.gz=01;31:*.lrz=01;31:*.lz=01;31:*.lzo=01;31:*.xz=01;31:*.zst=01;31:*.tzst=01;31:*.bz2=01;31:*.bz=01;31:*.tbz=01;31:*.tbz2=01;31:*.tz=01;31:*.deb=01;31:*.rpm=01;31:*.jar=01;31:*.war=01;31:*.ear=01;31:*.sar=01;31:*.rar=01;31:*.alz=01;31:*.ace=01;31:*.zoo=01;31:*.cpio=01;31:*.7z=01;31:*.rz=01;31:*.cab=01;31:*.wim=01;31:*.swm=01;31:*.dwm=01;31:*.esd=01;31:*.jpg=01;35:*.jpeg=01;35:*.mjpg=01;35:*.mjpeg=01;35:*.gif=01;35:*.bmp=01;35:*.pbm=01;35:*.pgm=01;35:*.ppm=01;35:*.tga=01;35:*.xbm=01;35:*.xpm=01;35:*.tif=01;35:*.tiff=01;35:*.png=01;35:*.svg=01;35:*.svgz=01;35:*.mng=01;35:*.pcx=01;35:*.mov=01;35:*.mpg=01;35:*.mpeg=01;35:*.m2v=01;35:*.mkv=01;35:*.webm=01;35:*.webp=01;35:*.ogm=01;35:*.mp4=01;35:*.m4v=01;35:*.mp4v=01;35:*.vob=01;35:*.qt=01;35:*.nuv=01;35:*.wmv=01;35:*.asf=01;35:*.rm=01;35:*.rmvb=01;35:*.flc=01;35:*.avi=01;35:*.fli=01;35:*.flv=01;35:*.gl=01;35:*.dl=01;35:*.xcf=01;35:*.xwd=01;35:*.yuv=01;35:*.cgm=01;35:*.emf=01;35:*.ogv=01;35:*.ogx=01;35:*.aac=00;36:*.au=00;36:*.flac=00;36:*.m4a=00;36:*.mid=00;36:*.midi=00;36:*.mka=00;36:*.mp3=00;36:*.mpc=00;36:*.ogg=00;36:*.ra=00;36:*.wav=00;36:*.oga=00;36:*.opus=00;36:*.spx=00;36:*.xspf=00;36:\n",
      "VIRTUAL_ENV=/home/ckcarr/CKCenv\n",
      "WAYLAND_DISPLAY=wayland-0\n",
      "FORCE_COLOR=1\n",
      "PYDEVD_USE_FRAME_EVAL=NO\n",
      "CLICOLOR=1\n",
      "CLICOLOR_FORCE=1\n",
      "HBNB_MYSQL_PWD=hbnb_dev_pwd\n",
      "HBNB_MYSQL_DB=hbnb_dev_db\n",
      "JPY_PARENT_PID=13883\n",
      "LESSCLOSE=/usr/bin/lesspipe %s %s\n",
      "TERM=xterm-color\n",
      "LESSOPEN=| /usr/bin/lesspipe %s\n",
      "USER=ckcarr\n",
      "GIT_PAGER=cat\n",
      "DISPLAY=:0\n",
      "SHLVL=1\n",
      "PAGER=cat\n",
      "VIRTUAL_ENV_PROMPT=(CKCenv) \n",
      "HBNB_MYSQL_USER=hbnb_dev\n",
      "MPLBACKEND=module://matplotlib_inline.backend_inline\n",
      "XDG_RUNTIME_DIR=/mnt/wslg/runtime-dir\n",
      "HBNB_MYSQL_HOST=localhost\n",
      "WSLENV=WT_SESSION::WT_PROFILE_ID\n",
      "XDG_DATA_DIRS=/usr/local/share:/usr/share:/var/lib/snapd/desktop\n",
      "PATH=/home/ckcarr/CKCenv/bin:/home/ckcarr/.local/bin:/usr/local/sbin:/usr/local/bin:/usr/sbin:/usr/bin:/sbin:/bin:/usr/games:/usr/local/games:/usr/lib/wsl/lib:/mnt/c/Program Files (x86)/VMware/VMware Player/bin/:/mnt/c/windows/system32:/mnt/c/windows:/mnt/c/windows/System32/Wbem:/mnt/c/windows/System32/WindowsPowerShell/v1.0/:/mnt/c/windows/System32/OpenSSH/:/mnt/c/Program Files/GitHub CLI/:/mnt/c/Program Files/Git/cmd:/mnt/c/cygwin64/bin:/mnt/c/Program Files/Docker/Docker/resources/bin:/mnt/c/Users/Crysk/AppData/Local/Microsoft/WindowsApps:/mnt/c/Users/Crysk/AppData/Local/Programs/Microsoft VS Code/bin:/mnt/c/Users/Crysk/AppData/Local/GitHubDesktop/bin:/mnt/c/Users/Crysk/AppData/Local/gitkraken/bin:/mnt/c/Program Files (x86)/Brackets/:/snap/bin\n",
      "HBNB_TYPE_STORAGE=db\n",
      "HOSTTYPE=x86_64\n",
      "PULSE_SERVER=unix:/mnt/wslg/PulseServer\n",
      "WT_PROFILE_ID={51855cb2-8cce-5362-8f54-464b92b32386}\n",
      "OLDPWD=/home/ckcarr/Holberton_REPOS\n"
     ]
    }
   ],
   "source": [
    "!env"
   ]
  },
  {
   "cell_type": "code",
   "execution_count": null,
   "id": "980ba461-ef48-47e0-a01d-ae168526a03f",
   "metadata": {
    "editable": true,
    "slideshow": {
     "slide_type": ""
    },
    "tags": []
   },
   "outputs": [],
   "source": [
    "For primary keys I am having issues with foreign key constraints"
   ]
  },
  {
   "cell_type": "code",
   "execution_count": null,
   "id": "875903ac-664f-4df4-b4d1-73d3029c21ca",
   "metadata": {},
   "outputs": [],
   "source": [
    "!cat setup_mysql_dev.sql"
   ]
  },
  {
   "cell_type": "code",
   "execution_count": null,
   "id": "3a7850d7-944e-4797-9bc5-c7243699f8f7",
   "metadata": {},
   "outputs": [],
   "source": [
    "Next step is to run the set up script into the SQL server"
   ]
  },
  {
   "cell_type": "raw",
   "id": "1b49eceb-8cb5-496d-9b0f-2a937e11d62c",
   "metadata": {},
   "source": [
    "!cat setup_mysql_dev.sql | mysql -hlocalhost -uroot -p"
   ]
  },
  {
   "cell_type": "code",
   "execution_count": null,
   "id": "3ac4f694-68d2-4735-aaf7-61fb8b338b6e",
   "metadata": {},
   "outputs": [],
   "source": []
  }
 ],
 "metadata": {
  "kernelspec": {
   "display_name": "Python 3 (ipykernel)",
   "language": "python",
   "name": "python3"
  },
  "language_info": {
   "codemirror_mode": {
    "name": "ipython",
    "version": 3
   },
   "file_extension": ".py",
   "mimetype": "text/x-python",
   "name": "python",
   "nbconvert_exporter": "python",
   "pygments_lexer": "ipython3",
   "version": "3.10.6"
  }
 },
 "nbformat": 4,
 "nbformat_minor": 5
}
